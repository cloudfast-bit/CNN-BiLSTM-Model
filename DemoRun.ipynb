{
 "cells": [
  {
   "cell_type": "code",
   "execution_count": null,
   "metadata": {},
   "outputs": [],
   "source": [
    "import cv2\n",
    "import os\n",
    "import numpy as np\n",
    "import numpy as np\n",
    "import tensorflow as tf\n",
    "from tensorflow import keras\n",
    "from keras.models import load_model\n",
    "import cv2\n",
    "\n",
    "modelcnnlstm=tf.keras.models.load_model(\"Movie.h5\")\n",
    "test=[]\n",
    "\n",
    "\n",
    "def load_images_from_folder(folder):\n",
    "    \n",
    "    image=[]\n",
    "    im=[]\n",
    "    c=1\n",
    "    \n",
    "    \n",
    "    for filename in os.listdir(folder):\n",
    "        img = cv2.imread(os.path.join(folder,filename))\n",
    "        n_img=cv2.resize(img,(100,100))\n",
    "        if img is not None :\n",
    "            im.append(n_img)\n",
    "        if c%10==0:\n",
    "            image.append(im)\n",
    "            #image.append(x)\n",
    "            im=[]\n",
    "            test.append(image)\n",
    "            image=[]\n",
    "        c=c+1\n",
    "        \n",
    "load_images_from_folder(\"sampleframes\")\n",
    "def detection_of_violent_activities(vid_seq):\n",
    "    \n",
    "    #reshaping the 10 frames as per the model\n",
    "    print(len(vid_seq))\n",
    "    #vid_seq=vid_seq/225\n",
    "    test=[]\n",
    "    test.append(vid_seq)\n",
    "    inputtestshape=[]\n",
    "    inputtestshape.append(test)\n",
    "    \n",
    "    #convert the list into an array\n",
    "    inputtestshape=np.array(inputtestshape).reshape(-1,10,100,100,3)\n",
    "    \n",
    "    #predicting the probabilities of violent and non-violent activities\n",
    "    prediction=modelcnnlstm.predict_proba(inputtestshape)\n",
    "    print(prediction)\n",
    "    #calculation the maximum probability\n",
    "    val=prediction[0][1]*100\n",
    "    result=np.argmax(prediction)\n",
    "    return(val)\n",
    "detection_of_violent_activities(test)"
   ]
  },
  {
   "cell_type": "code",
   "execution_count": null,
   "metadata": {},
   "outputs": [],
   "source": [
    "print(prediction[0][result]*100)"
   ]
  },
  {
   "cell_type": "code",
   "execution_count": null,
   "metadata": {},
   "outputs": [],
   "source": [
    "8.6445965e-05*100"
   ]
  },
  {
   "cell_type": "code",
   "execution_count": null,
   "metadata": {},
   "outputs": [],
   "source": [
    " 7.7089721e-01*100"
   ]
  },
  {
   "cell_type": "code",
   "execution_count": null,
   "metadata": {},
   "outputs": [],
   "source": [
    "import numpy as np\n",
    "a=[1,2,3,4]\n",
    "a=np.array(a)\n",
    "print(a)\n",
    "print(list(a))"
   ]
  },
  {
   "cell_type": "code",
   "execution_count": null,
   "metadata": {},
   "outputs": [],
   "source": []
  }
 ],
 "metadata": {
  "kernelspec": {
   "display_name": "Python 3",
   "language": "python",
   "name": "python3"
  },
  "language_info": {
   "codemirror_mode": {
    "name": "ipython",
    "version": 3
   },
   "file_extension": ".py",
   "mimetype": "text/x-python",
   "name": "python",
   "nbconvert_exporter": "python",
   "pygments_lexer": "ipython3",
   "version": "3.7.3"
  }
 },
 "nbformat": 4,
 "nbformat_minor": 2
}
