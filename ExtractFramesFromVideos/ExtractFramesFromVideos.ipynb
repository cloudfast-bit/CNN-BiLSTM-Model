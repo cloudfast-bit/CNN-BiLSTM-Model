{
 "cells": [
  {
   "cell_type": "code",
   "execution_count": null,
   "metadata": {},
   "outputs": [],
   "source": [
    "import cv2\n",
    "count = 0\n",
    "vidcap = cv2.VideoCapture('path to dataset video')\n",
    "success,image = vidcap.read()\n",
    "success = True\n",
    "while success:\n",
    "    success,image = vidcap.read()\n",
    "    \n",
    "    # save frame as JPEG file\n",
    "    cv2.imwrite(\"path to directory of saving//xyz.jpg\" % count, image) \n",
    "\n",
    "    # exit if Escape is hit\n",
    "    if cv2.waitKey(10) == 27:                     \n",
    "        break\n",
    "    count += 1"
   ]
  }
 ],
 "metadata": {
  "kernelspec": {
   "display_name": "Python 3",
   "language": "python",
   "name": "python3"
  },
  "language_info": {
   "codemirror_mode": {
    "name": "ipython",
    "version": 3
   },
   "file_extension": ".py",
   "mimetype": "text/x-python",
   "name": "python",
   "nbconvert_exporter": "python",
   "pygments_lexer": "ipython3",
   "version": "3.7.3"
  }
 },
 "nbformat": 4,
 "nbformat_minor": 2
}
