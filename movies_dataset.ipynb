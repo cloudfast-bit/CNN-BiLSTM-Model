{
 "cells": [
  {
   "cell_type": "code",
   "execution_count": null,
   "metadata": {},
   "outputs": [],
   "source": [
    "#data preprocessing for feeding into lstm\n",
    "\n",
    "import cv2\n",
    "import os\n",
    "\n",
    "\n",
    "dataset=[]\n",
    "\n",
    "\n",
    "def load_images_from_folder(folder,x):\n",
    "    \n",
    "    image=[]\n",
    "    im=[]\n",
    "    c=1\n",
    "    \n",
    "    \n",
    "    for filename in os.listdir(folder):\n",
    "        img = cv2.imread(os.path.join(folder,filename))\n",
    "        n_img=cv2.resize(img,(100,100))\n",
    "        if img is not None :\n",
    "            im.append(n_img)\n",
    "        if c%10==0:\n",
    "            image.append(im)\n",
    "            image.append(x)\n",
    "            im=[]\n",
    "            dataset.append(image)\n",
    "            image=[]\n",
    "        c=c+1\n",
    "        \n",
    "load_images_from_folder(\"Datasetframes\\\\Movies\\\\training\\\\nonviolent\",0)\n",
    "load_images_from_folder(\"Datasetframes\\\\Movies\\\\training\\\\violent\",1)"
   ]
  },
  {
   "cell_type": "code",
   "execution_count": null,
   "metadata": {},
   "outputs": [],
   "source": [
    "print(len(dataset))"
   ]
  },
  {
   "cell_type": "code",
   "execution_count": null,
   "metadata": {},
   "outputs": [],
   "source": [
    "import random\n",
    "random.shuffle(dataset)\n",
    "for samples in dataset[:10]:\n",
    "    print(samples[1])\n",
    "x=[]\n",
    "y=[]\n",
    "for img,lab in dataset:\n",
    "    x.append(img)\n",
    "    y.append(lab)\n"
   ]
  },
  {
   "cell_type": "code",
   "execution_count": null,
   "metadata": {},
   "outputs": [],
   "source": [
    "import numpy as np\n",
    "x=np.array(x).reshape(-1,10,100,100,3)\n",
    "print(x.shape)"
   ]
  },
  {
   "cell_type": "code",
   "execution_count": null,
   "metadata": {},
   "outputs": [],
   "source": [
    "import pickle\n",
    "pickle_out=open(\"xmovie.pickle\",\"wb\")\n",
    "pickle.dump(x,pickle_out)\n",
    "pickle_out.close()\n",
    "\n",
    "\n",
    "pickle_out=open(\"ymovie.pickle\",\"wb\")\n",
    "pickle.dump(y,pickle_out)\n",
    "pickle_out.close()"
   ]
  },
  {
   "cell_type": "code",
   "execution_count": null,
   "metadata": {},
   "outputs": [],
   "source": [
    "#loading from pickle\n",
    "import pickle\n",
    "pickle_in=open(\"x.pickle\",\"rb\")\n",
    "x=pickle.load(pickle_in)\n",
    "pickle_in.close()\n",
    "\n",
    "pickle_in=open(\"y.pickle\",\"rb\")\n",
    "y=pickle.load(pickle_in)\n",
    "pickle_in.close()"
   ]
  },
  {
   "cell_type": "code",
   "execution_count": null,
   "metadata": {},
   "outputs": [],
   "source": [
    "#data preprocessing for feeding into lstm\n",
    "\n",
    "import cv2\n",
    "import os\n",
    "\n",
    "\n",
    "validset=[]\n",
    "\n",
    "\n",
    "def load_images_from_folder(folder,x):\n",
    "    \n",
    "    image=[]\n",
    "    im=[]\n",
    "    c=1\n",
    "    \n",
    "    \n",
    "    for filename in os.listdir(folder):\n",
    "        img = cv2.imread(os.path.join(folder,filename))\n",
    "        n_img=cv2.resize(img,(100,100))\n",
    "        if img is not None :\n",
    "            im.append(n_img)\n",
    "        if c%10==0:\n",
    "            image.append(im)\n",
    "            image.append(x)\n",
    "            im=[]\n",
    "            validset.append(image)\n",
    "            image=[]\n",
    "        c=c+1\n",
    "        \n",
    "load_images_from_folder(\"Datasetframes\\\\Movies\\\\training\\\\nonviolent\",0)\n",
    "load_images_from_folder(\"Datasetframes\\\\Movies\\\\training\\\\violent\",1)"
   ]
  },
  {
   "cell_type": "code",
   "execution_count": null,
   "metadata": {},
   "outputs": [],
   "source": [
    "print(len(validset))"
   ]
  },
  {
   "cell_type": "code",
   "execution_count": null,
   "metadata": {},
   "outputs": [],
   "source": [
    "import random\n",
    "random.shuffle(validset)\n",
    "for samples in validset[:10]:\n",
    "    print(samples[1])\n",
    "x_valid=[]\n",
    "y_valid=[]\n",
    "for img,lab in validset:\n",
    "    x_valid.append(img)\n",
    "    y_valid.append(lab)"
   ]
  },
  {
   "cell_type": "code",
   "execution_count": null,
   "metadata": {},
   "outputs": [],
   "source": [
    "import numpy as np\n",
    "x_valid=np.array(x_valid).reshape(-1,10,100,100,3)\n",
    "print(x.shape)"
   ]
  },
  {
   "cell_type": "code",
   "execution_count": null,
   "metadata": {},
   "outputs": [],
   "source": [
    "x_valid=x_valid.astype('float32')/255\n",
    "import tensorflow as tf\n",
    "from tensorflow.keras.callbacks import TensorBoard\n"
   ]
  },
  {
   "cell_type": "code",
   "execution_count": null,
   "metadata": {},
   "outputs": [],
   "source": [
    "from keras import backend as K\n",
    "import tensorflow as tf\n",
    "from tensorflow.keras.models import Sequential\n",
    "from tensorflow.keras.layers import Dense, TimeDistributed,Dropout, Activation, Flatten,Conv2D, MaxPooling2D,LSTM,Bidirectional\n",
    "from tensorflow.keras.optimizers import Adam, SGD\n",
    "from tensorflow.keras.callbacks import TensorBoard\n",
    "K.set_image_dim_ordering('tf')\n",
    "import numpy as np\n",
    "x=x.astype('float32')/255\n",
    "NAME=\"MOVIEFINALUlti\"\n",
    "tensorboard=TensorBoard(log_dir='logs/{}'.format(NAME))\n",
    "## training the CNN\n",
    "cnn = Sequential()\n",
    "#input\n",
    "cnn.add(Conv2D(64, (3, 3), activation='relu', padding='same'))\n",
    "#1st layer\n",
    "cnn.add(Conv2D(64, (3, 3), activation='relu'))\n",
    "cnn.add(MaxPooling2D((2, 2)))\n",
    "cnn.add(Conv2D(64, (3, 3), activation='relu'))\n",
    "cnn.add(MaxPooling2D((2, 2)))\n",
    "cnn.add(Conv2D(64, (3, 3), activation='relu'))\n",
    "cnn.add(MaxPooling2D((2, 2)))\n",
    "#converting to 1-d tensor\n",
    "cnn.add(Flatten())\n",
    "\n",
    "model=Sequential()\n",
    "model.add(TimeDistributed(cnn,input_shape=x.shape[1:]))\n",
    "model.add(Bidirectional(LSTM(32)))\n",
    "#model.add(LSTM(32))\n",
    "model.add(Dense(64,activation='relu'))\n",
    "model.add(Dense(32,activation='relu'))\n",
    "#model.add(Flatten())\n",
    "model.add(Dense(2,activation='sigmoid'))\n",
    "model.compile(loss='sparse_categorical_crossentropy',optimizer='SGD',metrics=['accuracy'])\n",
    "print(model.summary())\n",
    "model.fit(x,y,epochs=25,validation_data=(x_valid,y_valid),batch_size=5,callbacks=[tensorboard])\n",
    "model.save(\"Movie.h5\")\n"
   ]
  },
  {
   "cell_type": "code",
   "execution_count": null,
   "metadata": {},
   "outputs": [],
   "source": []
  }
 ],
 "metadata": {
  "kernelspec": {
   "display_name": "Python 3",
   "language": "python",
   "name": "python3"
  },
  "language_info": {
   "codemirror_mode": {
    "name": "ipython",
    "version": 3
   },
   "file_extension": ".py",
   "mimetype": "text/x-python",
   "name": "python",
   "nbconvert_exporter": "python",
   "pygments_lexer": "ipython3",
   "version": "3.7.3"
  }
 },
 "nbformat": 4,
 "nbformat_minor": 2
}
